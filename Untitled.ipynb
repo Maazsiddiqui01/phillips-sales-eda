{
 "cells": [
  {
   "cell_type": "markdown",
   "id": "ec1f1afd",
   "metadata": {},
   "source": [
    "HERE IS A FUN GUESSING GAME\n",
    "\n",
    "After Running the below code, you will have 5 turns to guess computer's output. Have fun!"
   ]
  },
  {
   "cell_type": "code",
   "execution_count": null,
   "id": "d6510e0f",
   "metadata": {},
   "outputs": [],
   "source": [
    "from random import randint\n",
    "num_guess=0\n",
    "output=randint(0,100)\n",
    "guess=0\n",
    "while guess!=output and num_guess<=4:\n",
    "    guess=eval(input('Please enter your guess:'))\n",
    "    num_guess=num_guess+1\n",
    "    if guess>output:\n",
    "        print('LOWER,',5-num_guess,' turns left')\n",
    "    elif guess<output:\n",
    "        print('HIGHER,',5-num_guess,'turns left')\n",
    "    else:\n",
    "        print('You got it')\n",
    "print('Computer guess was',output)"
   ]
  }
 ],
 "metadata": {
  "kernelspec": {
   "display_name": "Python 3 (ipykernel)",
   "language": "python",
   "name": "python3"
  },
  "language_info": {
   "codemirror_mode": {
    "name": "ipython",
    "version": 3
   },
   "file_extension": ".py",
   "mimetype": "text/x-python",
   "name": "python",
   "nbconvert_exporter": "python",
   "pygments_lexer": "ipython3",
   "version": "3.11.5"
  }
 },
 "nbformat": 4,
 "nbformat_minor": 5
}
